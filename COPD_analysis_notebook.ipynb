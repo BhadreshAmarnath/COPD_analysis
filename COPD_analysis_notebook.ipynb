{
 "cells": [
  {
   "cell_type": "markdown",
   "metadata": {},
   "source": [
    "# COPD Patient Segmentation Challenge\n",
    "\n",
    "#### By Leonard Karsunky\n",
    "April 25, 2022"
   ]
  },
  {
   "cell_type": "markdown",
   "metadata": {},
   "source": [
    "The aim of this analysis is to cluster/segment COPD patients into distinct subpopulations using unsupervised learning techniques. The dataset includes 101 (imaginary) patients and 22 features (both numerical and categorical), including information on their characteristics, disease severity, and co-morbidities. Other features include measures of patients' walking ability, quality of life, anxiety and depression."
   ]
  },
  {
   "cell_type": "code",
   "execution_count": 1,
   "metadata": {},
   "outputs": [],
   "source": [
    "import pandas as pd\n",
    "import matplotlib.pyplot as plt\n",
    "import seaborn as sns\n",
    "import numpy as np\n",
    "from scipy.stats import norm\n",
    "from sklearn.preprocessing import StandardScaler\n",
    "from scipy import stats\n",
    "import math\n",
    "\n",
    "from sklearn.cluster import KMeans, DBSCAN\n",
    "from sklearn.metrics import silhouette_score\n",
    "from sklearn.manifold import TSNE\n",
    "from sklearn.decomposition import PCA\n",
    "from sklearn_extra.cluster import KMedoids\n",
    "import gower\n",
    "from prince import FAMD\n",
    "from kmodes.kprototypes import KPrototypes\n",
    "\n",
    "import warnings\n",
    "warnings.filterwarnings('ignore')\n",
    "\n",
    "%matplotlib inline"
   ]
  },
  {
   "cell_type": "markdown",
   "metadata": {},
   "source": [
    "## 1. Data preprocessing"
   ]
  },
  {
   "cell_type": "markdown",
   "metadata": {},
   "source": [
    "#### Loading the data into a dataframe"
   ]
  },
  {
   "cell_type": "code",
   "execution_count": 2,
   "metadata": {},
   "outputs": [
    {
     "data": {
      "text/html": [
       "<div>\n",
       "<style scoped>\n",
       "    .dataframe tbody tr th:only-of-type {\n",
       "        vertical-align: middle;\n",
       "    }\n",
       "\n",
       "    .dataframe tbody tr th {\n",
       "        vertical-align: top;\n",
       "    }\n",
       "\n",
       "    .dataframe thead th {\n",
       "        text-align: right;\n",
       "    }\n",
       "</style>\n",
       "<table border=\"1\" class=\"dataframe\">\n",
       "  <thead>\n",
       "    <tr style=\"text-align: right;\">\n",
       "      <th></th>\n",
       "      <th>ID</th>\n",
       "      <th>AGE</th>\n",
       "      <th>PackHistory</th>\n",
       "      <th>COPDSEVERITY</th>\n",
       "      <th>MWT1</th>\n",
       "      <th>MWT2</th>\n",
       "      <th>MWT1Best</th>\n",
       "      <th>FEV1</th>\n",
       "      <th>FEV1PRED</th>\n",
       "      <th>FVC</th>\n",
       "      <th>...</th>\n",
       "      <th>SGRQ</th>\n",
       "      <th>AGEquartiles</th>\n",
       "      <th>copd</th>\n",
       "      <th>gender</th>\n",
       "      <th>smoking</th>\n",
       "      <th>Diabetes</th>\n",
       "      <th>muscular</th>\n",
       "      <th>hypertension</th>\n",
       "      <th>AtrialFib</th>\n",
       "      <th>IHD</th>\n",
       "    </tr>\n",
       "  </thead>\n",
       "  <tbody>\n",
       "    <tr>\n",
       "      <th>1</th>\n",
       "      <td>58</td>\n",
       "      <td>77</td>\n",
       "      <td>60.0</td>\n",
       "      <td>SEVERE</td>\n",
       "      <td>120.0</td>\n",
       "      <td>120.0</td>\n",
       "      <td>120.0</td>\n",
       "      <td>1.21</td>\n",
       "      <td>36.0</td>\n",
       "      <td>2.40</td>\n",
       "      <td>...</td>\n",
       "      <td>69.55</td>\n",
       "      <td>4</td>\n",
       "      <td>3</td>\n",
       "      <td>1</td>\n",
       "      <td>2</td>\n",
       "      <td>1</td>\n",
       "      <td>0</td>\n",
       "      <td>0</td>\n",
       "      <td>1</td>\n",
       "      <td>0</td>\n",
       "    </tr>\n",
       "    <tr>\n",
       "      <th>2</th>\n",
       "      <td>57</td>\n",
       "      <td>79</td>\n",
       "      <td>50.0</td>\n",
       "      <td>MODERATE</td>\n",
       "      <td>165.0</td>\n",
       "      <td>176.0</td>\n",
       "      <td>176.0</td>\n",
       "      <td>1.09</td>\n",
       "      <td>56.0</td>\n",
       "      <td>1.64</td>\n",
       "      <td>...</td>\n",
       "      <td>44.24</td>\n",
       "      <td>4</td>\n",
       "      <td>2</td>\n",
       "      <td>0</td>\n",
       "      <td>2</td>\n",
       "      <td>1</td>\n",
       "      <td>0</td>\n",
       "      <td>0</td>\n",
       "      <td>1</td>\n",
       "      <td>1</td>\n",
       "    </tr>\n",
       "    <tr>\n",
       "      <th>3</th>\n",
       "      <td>62</td>\n",
       "      <td>80</td>\n",
       "      <td>11.0</td>\n",
       "      <td>MODERATE</td>\n",
       "      <td>201.0</td>\n",
       "      <td>180.0</td>\n",
       "      <td>201.0</td>\n",
       "      <td>1.52</td>\n",
       "      <td>68.0</td>\n",
       "      <td>2.30</td>\n",
       "      <td>...</td>\n",
       "      <td>44.09</td>\n",
       "      <td>4</td>\n",
       "      <td>2</td>\n",
       "      <td>0</td>\n",
       "      <td>2</td>\n",
       "      <td>1</td>\n",
       "      <td>0</td>\n",
       "      <td>0</td>\n",
       "      <td>1</td>\n",
       "      <td>0</td>\n",
       "    </tr>\n",
       "    <tr>\n",
       "      <th>4</th>\n",
       "      <td>145</td>\n",
       "      <td>56</td>\n",
       "      <td>60.0</td>\n",
       "      <td>VERY SEVERE</td>\n",
       "      <td>210.0</td>\n",
       "      <td>210.0</td>\n",
       "      <td>210.0</td>\n",
       "      <td>0.47</td>\n",
       "      <td>14.0</td>\n",
       "      <td>1.14</td>\n",
       "      <td>...</td>\n",
       "      <td>62.04</td>\n",
       "      <td>1</td>\n",
       "      <td>4</td>\n",
       "      <td>1</td>\n",
       "      <td>2</td>\n",
       "      <td>0</td>\n",
       "      <td>0</td>\n",
       "      <td>1</td>\n",
       "      <td>1</td>\n",
       "      <td>0</td>\n",
       "    </tr>\n",
       "    <tr>\n",
       "      <th>5</th>\n",
       "      <td>136</td>\n",
       "      <td>65</td>\n",
       "      <td>68.0</td>\n",
       "      <td>SEVERE</td>\n",
       "      <td>204.0</td>\n",
       "      <td>210.0</td>\n",
       "      <td>210.0</td>\n",
       "      <td>1.07</td>\n",
       "      <td>42.0</td>\n",
       "      <td>2.91</td>\n",
       "      <td>...</td>\n",
       "      <td>75.56</td>\n",
       "      <td>1</td>\n",
       "      <td>3</td>\n",
       "      <td>1</td>\n",
       "      <td>2</td>\n",
       "      <td>0</td>\n",
       "      <td>1</td>\n",
       "      <td>1</td>\n",
       "      <td>0</td>\n",
       "      <td>0</td>\n",
       "    </tr>\n",
       "  </tbody>\n",
       "</table>\n",
       "<p>5 rows × 23 columns</p>\n",
       "</div>"
      ],
      "text/plain": [
       "    ID  AGE  PackHistory COPDSEVERITY   MWT1   MWT2  MWT1Best  FEV1  FEV1PRED  \\\n",
       "1   58   77         60.0       SEVERE  120.0  120.0     120.0  1.21      36.0   \n",
       "2   57   79         50.0     MODERATE  165.0  176.0     176.0  1.09      56.0   \n",
       "3   62   80         11.0     MODERATE  201.0  180.0     201.0  1.52      68.0   \n",
       "4  145   56         60.0  VERY SEVERE  210.0  210.0     210.0  0.47      14.0   \n",
       "5  136   65         68.0       SEVERE  204.0  210.0     210.0  1.07      42.0   \n",
       "\n",
       "    FVC  ...   SGRQ  AGEquartiles  copd  gender  smoking  Diabetes  muscular  \\\n",
       "1  2.40  ...  69.55             4     3       1        2         1         0   \n",
       "2  1.64  ...  44.24             4     2       0        2         1         0   \n",
       "3  2.30  ...  44.09             4     2       0        2         1         0   \n",
       "4  1.14  ...  62.04             1     4       1        2         0         0   \n",
       "5  2.91  ...  75.56             1     3       1        2         0         1   \n",
       "\n",
       "   hypertension  AtrialFib  IHD  \n",
       "1             0          1    0  \n",
       "2             0          1    1  \n",
       "3             0          1    0  \n",
       "4             1          1    0  \n",
       "5             1          0    0  \n",
       "\n",
       "[5 rows x 23 columns]"
      ]
     },
     "execution_count": 2,
     "metadata": {},
     "output_type": "execute_result"
    }
   ],
   "source": [
    "df_copd = pd.read_csv('dataset.csv', index_col=0)\n",
    "df_copd.head()"
   ]
  },
  {
   "cell_type": "code",
   "execution_count": 3,
   "metadata": {
    "scrolled": true
   },
   "outputs": [
    {
     "name": "stdout",
     "output_type": "stream",
     "text": [
      "Index(['ID', 'AGE', 'PackHistory', 'COPDSEVERITY', 'MWT1', 'MWT2', 'MWT1Best',\n",
      "       'FEV1', 'FEV1PRED', 'FVC', 'FVCPRED', 'CAT', 'HAD', 'SGRQ',\n",
      "       'AGEquartiles', 'copd', 'gender', 'smoking', 'Diabetes', 'muscular',\n",
      "       'hypertension', 'AtrialFib', 'IHD'],\n",
      "      dtype='object')\n",
      "\n",
      "Number of features/variables in our dataset: 22\n"
     ]
    }
   ],
   "source": [
    "print(df_copd.columns)\n",
    "print(f'\\nNumber of features/variables in our dataset: {len(df_copd.columns)-1}')\n",
    "# We do not include the first column since it is simply the ID list and not a feature"
   ]
  },
  {
   "cell_type": "markdown",
   "metadata": {},
   "source": [
    "We can notice immediately that some features such as 'copd' are redundant since it is the same as COPDSEVERITY in numerical form."
   ]
  },
  {
   "cell_type": "markdown",
   "metadata": {},
   "source": [
    "#### Plotting the distribution of continuous variables"
   ]
  },
  {
   "cell_type": "code",
   "execution_count": 4,
   "metadata": {},
   "outputs": [],
   "source": [
    "cont_var = df_copd.columns.to_list()\n",
    "discrete_var = ['ID','COPDSEVERITY','AGEquartiles','copd','gender','smoking',\\\n",
    "                'Diabetes','muscular','hypertension','AtrialFib','IHD']\n",
    "for i in range(len(discrete_var)):\n",
    "    cont_var.remove(discrete_var[i])"
   ]
  },
  {
   "cell_type": "code",
   "execution_count": 5,
   "metadata": {
    "scrolled": false
   },
   "outputs": [
    {
     "data": {
      "image/png": "[encoded data removed]",
      "text/plain": [
       "<Figure size 864x432 with 12 Axes>"
      ]
     },
     "metadata": {
      "needs_background": "light"
     },
     "output_type": "display_data"
    }
   ],
   "source": [
    "fig, ax = plt.subplots(3, 4, figsize=(12,6),  sharey=False, sharex=False)\n",
    "\n",
    "for i in range(len(cont_var)):\n",
    "    row = math.floor(i/4)\n",
    "    col = i % 4\n",
    "    sbplt = ax[row, col]\n",
    "    sbplt.ticklabel_format(axis='x', style='scientific', scilimits=(-5,5))\n",
    "    sbplt.hist(df_copd[cont_var[i]], bins = 60, color='blue', alpha=0.3)\n",
    "    sbplt.set_title(cont_var[i])\n",
    "    \n",
    "fig.suptitle('Distribution of continuous features (before removing outliers)', fontweight=\"bold\")\n",
    "fig.text(0,0.38, 'Number of patients', rotation = 90)\n",
    "fig.tight_layout()"
   ]
  },
  {
   "cell_type": "markdown",
   "metadata": {},
   "source": [
    "#### Removing outliers"
   ]
  },
  {
   "cell_type": "code",
   "execution_count": 6,
   "metadata": {},
   "outputs": [
    {
     "name": "stdout",
     "output_type": "stream",
     "text": [
      "CAT median: 19.01, and CAT max value: 188\n",
      "HAD median: 10.59, and HAD max value: 56.2\n"
     ]
    }
   ],
   "source": [
    "print('CAT median: {:.4}, and CAT max value: {}'.format(df_copd.CAT.describe().median(), df_copd.CAT.max()))\n",
    "print('HAD median: {:.4}, and HAD max value: {}'.format(df_copd.HAD.describe().median(), df_copd.HAD.max()))"
   ]
  },
  {
   "cell_type": "code",
   "execution_count": 7,
   "metadata": {},
   "outputs": [],
   "source": [
    "# Setting outlier values to the median\n",
    "df_copd.loc[df_copd.loc[df_copd['CAT']==df_copd.CAT.max()].index, 'CAT'] = df_copd.CAT.describe().median()\n",
    "df_copd.loc[df_copd.loc[df_copd['HAD']==df_copd.HAD.max()].index, 'HAD'] = df_copd.HAD.describe().median()"
   ]
  },
  {
   "cell_type": "markdown",
   "metadata": {},
   "source": [
    "We see that for the variables CAT and HAD there exist outlier values at 188 and 56.2, respectively. Since this is far beyond the median, we removed them and replaced them with the median for further analysis (although it would be interesting to test the robustness of our clustering algorithm to outlier values)."
   ]
  },
  {
   "cell_type": "markdown",
   "metadata": {},
   "source": [
    "#### Removing duplicate patient IDs."
   ]
  },
  {
   "cell_type": "code",
   "execution_count": 8,
   "metadata": {},
   "outputs": [
    {
     "name": "stdout",
     "output_type": "stream",
     "text": [
      "Number of rows removed: 4\n",
      "Number of patients left: 97\n"
     ]
    }
   ],
   "source": [
    "init_rows = len(df_copd)\n",
    "df_copd = df_copd.drop_duplicates(subset='ID', keep='first')\n",
    "final_rows = len(df_copd)\n",
    "print(f'Number of rows removed: {init_rows-final_rows}')\n",
    "print(f'Number of patients left: {final_rows}')"
   ]
  },
  {
   "cell_type": "markdown",
   "metadata": {},
   "source": [
    "#### Replacing NaN values"
   ]
  },
  {
   "cell_type": "code",
   "execution_count": 9,
   "metadata": {},
   "outputs": [
    {
     "name": "stdout",
     "output_type": "stream",
     "text": [
      "Number of NaN data points: 4\n"
     ]
    }
   ],
   "source": [
    "print(f'Number of NaN data points: {df_copd.isnull().sum().sum()}')"
   ]
  },
  {
   "cell_type": "code",
   "execution_count": 10,
   "metadata": {},
   "outputs": [],
   "source": [
    "# We will replace the NaN values by the median of the column (i.e. the variable)\n",
    "\n",
    "for i in range(len(df_copd.columns)):\n",
    "    # We replace continuous NaN variables with the median and discrete ones with the minimum\n",
    "    if df_copd.columns[i] in cont_var:\n",
    "        df_copd[df_copd.columns[i]] = df_copd[df_copd.columns[i]].replace(np.nan, df_copd[df_copd.columns[i]].describe().median())\n",
    "    else:\n",
    "        df_copd[df_copd.columns[i]] = df_copd[df_copd.columns[i]].replace(np.nan, df_copd[df_copd.columns[i]].min())"
   ]
  },
  {
   "cell_type": "markdown",
   "metadata": {},
   "source": [
    "#### Transforming COPDSEVERITY variable into numerical data"
   ]
  },
  {
   "cell_type": "markdown",
   "metadata": {},
   "source": [
    "Some clustering algorithms can only process numerical values, therefore we are converting the COPDSEVERITY into values ranging from 0 to 3. This could work since a clustering algorithm might consider that MILD patients are more similar to MODERATE than to SEVERE, which is true in some sense. It is therefore reasonable in this case to transform these categorical values into numerical ones."
   ]
  },
  {
   "cell_type": "code",
   "execution_count": 11,
   "metadata": {},
   "outputs": [],
   "source": [
    "df_copd = df_copd.drop('ID', axis=1)\n",
    "df_copd_w_severity = df_copd.copy() # Keeping a copy with original COPDSEVERITY variable for algorithms below\n",
    "\n",
    "df_copd['COPDSEVERITY'] = df_copd['COPDSEVERITY'].replace('MILD', 0)\n",
    "df_copd['COPDSEVERITY'] = df_copd['COPDSEVERITY'].replace('MODERATE', 1)\n",
    "df_copd['COPDSEVERITY'] = df_copd['COPDSEVERITY'].replace('SEVERE', 2)\n",
    "df_copd['COPDSEVERITY'] = df_copd['COPDSEVERITY'].replace('VERY SEVERE', 3)"
   ]
  },
  {
   "cell_type": "markdown",
   "metadata": {},
   "source": [
    "#### Normalizing the data"
   ]
  },
  {
   "cell_type": "markdown",
   "metadata": {},
   "source": [
    "It is also important to normalize the data (using min-max normalization so that everything lies between 0 and 1) since this could severely skew our clustering results."
   ]
  },
  {
   "cell_type": "code",
   "execution_count": 12,
   "metadata": {},
   "outputs": [],
   "source": [
    "df_copd = (df_copd - df_copd.min())/(df_copd.max() - df_copd.min())"
   ]
  },
  {
   "cell_type": "markdown",
   "metadata": {},
   "source": [
    "## 2. Clustering and Dimensionality Reduction"
   ]
  },
  {
   "cell_type": "markdown",
   "metadata": {},
   "source": [
    "Now that our data is extracted and cleaned, we can move on to our clustering algorithms.\n",
    "\n",
    "Obviously, since some features are already categorical, it would be very easy to simply cluster our patients using those features (e.g. to their COPD severity). However, this would omit the information from all other features and would therefore not be a wise choice.\n",
    "\n",
    "This dataset contains a mix of both continuous and discrete variables, however most popular clustering algorithms such as K-Means are only suitable for one type of data. We will therefore try to find the most appropriate algorithm given our dataset.\n",
    "\n",
    "Due to the *curse of dimensionality* of our 22-feature space (where the distance between the data points and the origin of the coordinate system grows as a square root of the number of dimensions causing you to lose structure), we would ideally like to take the high-dimensional feature vectors we have for each patient and embed them into a lower-dimensional latent space where some distance measure can define similarity between them."
   ]
  },
  {
   "cell_type": "markdown",
   "metadata": {},
   "source": [
    "### K-Means\n",
    "\n",
    "K-Means works well on large datasets with numerical features, uniform cluster size, and where clusters are convex and isotropic “blobs”. However, in our case, we do not satisfy any of these properties. But it is still worth trying the generic approach and see what it gets us as a baseline."
   ]
  },
  {
   "cell_type": "code",
   "execution_count": 13,
   "metadata": {},
   "outputs": [],
   "source": [
    "def plot_sse(features_X, start=2, end=11):\n",
    "    sse = []\n",
    "    for k in range(start, end):\n",
    "        # Assign the labels to the clusters\n",
    "        kmeans = KMeans(n_clusters=k, random_state=10).fit(features_X)\n",
    "        sse.append({'k': k, 'sse': kmeans.inertia_})\n",
    "\n",
    "    sse = pd.DataFrame(sse)\n",
    "    plt.plot(sse.k, sse.sse)\n",
    "    plt.xlabel('K')\n",
    "    plt.ylabel('Sum of Squared Errors')"
   ]
  },
  {
   "cell_type": "code",
   "execution_count": 14,
   "metadata": {},
   "outputs": [
    {
     "data": {
      "image/png": "[encoded data removed]",
      "text/plain": [
       "<Figure size 432x288 with 1 Axes>"
      ]
     },
     "metadata": {
      "needs_background": "light"
     },
     "output_type": "display_data"
    }
   ],
   "source": [
    "scaled_features = StandardScaler().fit(df_copd).transform(df_copd)\n",
    "plot_sse(scaled_features)"
   ]
  },
  {
   "cell_type": "markdown",
   "metadata": {},
   "source": [
    "As predicted, the Elbow method does not yield any promising results.. This is surely not the best method for clustering this data (or perhaps there is only one group in this data to begin with)."
   ]
  },
  {
   "cell_type": "code",
   "execution_count": 15,
   "metadata": {},
   "outputs": [
    {
     "data": {
      "image/png": "[encoded data removed]",
      "text/plain": [
       "<Figure size 432x288 with 1 Axes>"
      ]
     },
     "metadata": {
      "needs_background": "light"
     },
     "output_type": "display_data"
    }
   ],
   "source": [
    "silhouettes = []\n",
    "\n",
    "# Trying multiple k\n",
    "for k in range(2, 11):\n",
    "    # Clustering the data and assigning the labels\n",
    "    labels = KMeans(n_clusters=k, random_state=10).fit_predict(scaled_features)\n",
    "    # Calculating Silhouette score\n",
    "    score = silhouette_score(scaled_features, labels)\n",
    "    silhouettes.append({'k': k, 'score': score})\n",
    "    \n",
    "silhouettes = pd.DataFrame(silhouettes)\n",
    "\n",
    "plt.plot(silhouettes.k, silhouettes.score)\n",
    "plt.xlabel('K')\n",
    "plt.ylabel('Silhouette score')\n",
    "plt.show()"
   ]
  },
  {
   "cell_type": "markdown",
   "metadata": {},
   "source": [
    "How to select K in K-means? The silhouette score seems to indicate that K=3 is a good tradeoff between the number of clusters and cohesion/separation, with the lowest value being at K=5."
   ]
  },
  {
   "cell_type": "markdown",
   "metadata": {},
   "source": [
    "### Low dimensional visualization"
   ]
  },
  {
   "cell_type": "code",
   "execution_count": 16,
   "metadata": {},
   "outputs": [
    {
     "data": {
      "image/png": "[encoded data removed]",
      "text/plain": [
       "<Figure size 432x288 with 1 Axes>"
      ]
     },
     "metadata": {
      "needs_background": "light"
     },
     "output_type": "display_data"
    }
   ],
   "source": [
    "copd_reduced_tsne = TSNE(n_components=2, random_state=0).fit_transform(scaled_features)\n",
    "\n",
    "labels = KMeans(n_clusters=3, random_state=0).fit_predict(scaled_features)\n",
    "\n",
    "plt.scatter(copd_reduced_tsne[:,0], copd_reduced_tsne[:,1], c=labels, alpha=0.6)\n",
    "plt.title('Discovered clusters using K-Means')\n",
    "plt.xlabel('tSNE_1')\n",
    "plt.ylabel('tSNE_2')\n",
    "plt.show()"
   ]
  },
  {
   "cell_type": "markdown",
   "metadata": {},
   "source": [
    "As we can see, using K-Means (with t-SNE for visualization) to cluster our patient data did not indicate any clear clusters or groups within the data. Indeed, the Euclidian distance metric used during K-Means is not suitabled for our multi-modal data. However, at least the different colors are grouped closely together.\n",
    "\n",
    "Perhaps in high-dimensional space and with independantly distributed features (i.e. no correlation) it is typical that the pairwise distances between any and all points becomes very small. This could well be a problem for our data set with categorical features. We could also check during preprocessing whether our 22 variables are actually correlated in some respect (using Pearson's correlation coefficient).\n",
    "\n",
    "Had this shown promise, we could have used association tests or box plots to interpret and assess the clusters. We can also simply analyze the statistical summaries of each cluster and assess whether it makes sense for our purpose or not (e.g. we might find one group is SEVERE COPD x AGE>70 x MALE x etc..)."
   ]
  },
  {
   "cell_type": "markdown",
   "metadata": {},
   "source": [
    "### K-Prototype"
   ]
  },
  {
   "cell_type": "markdown",
   "metadata": {},
   "source": [
    "K-Modes is a similar clustering algorithm that was developed as an alternative to K-Means for categorical data and is just as efficient. However, this is also solely focused on one type of data.\n",
    "\n",
    "In light of this, K-Prototype is an agile clustering algorithm based on partitioning that can handle both categorical and numerical data."
   ]
  },
  {
   "cell_type": "code",
   "execution_count": null,
   "metadata": {},
   "outputs": [],
   "source": [
    "kprot_data = df_copd_w_severity.copy()\n",
    "\n",
    "categorical_columns = [2]\n",
    "\n",
    "#Elbow plot with cost (will take a LONG time)\n",
    "costs = []\n",
    "n_clusters = []\n",
    "clusters_assigned = []\n",
    "\n",
    "for i in range(2, 10):\n",
    "    try:\n",
    "        kproto = KPrototypes(n_clusters = i, init='Cao', verbose=2)\n",
    "        clusters = kproto.fit_predict(kprot_data, categorical=categorical_columns)\n",
    "        costs.append(kproto.cost_)\n",
    "        n_clusters.append(i)\n",
    "        clusters_assigned.append(clusters)\n",
    "    except:\n",
    "        print(f\"Can't cluster with {i} clusters\")\n",
    "        \n",
    "plt.scatter(x=n_clusters, y=costs)\n",
    "plt.show()"
   ]
  },
  {
   "cell_type": "markdown",
   "metadata": {},
   "source": [
    "(GO TO BOTTOM of previous cell to see graph)\n",
    "\n",
    "Looking at the elbow plot, we will choose 3 clusters (although it is hard to choose)."
   ]
  },
  {
   "cell_type": "code",
   "execution_count": 18,
   "metadata": {},
   "outputs": [
    {
     "data": {
      "text/plain": [
       "2    50\n",
       "0    26\n",
       "1    21\n",
       "dtype: int64"
      ]
     },
     "execution_count": 18,
     "metadata": {},
     "output_type": "execute_result"
    }
   ],
   "source": [
    "#K-Prototype clustering with 3 clusters\n",
    "kproto = KPrototypes(n_clusters = 3, init='Cao', n_jobs = 4)\n",
    "clusters = kproto.fit_predict(kprot_data, categorical=categorical_columns)\n",
    "\n",
    "#Prints the count of each cluster group\n",
    "pd.Series(clusters).value_counts()"
   ]
  },
  {
   "cell_type": "code",
   "execution_count": 19,
   "metadata": {},
   "outputs": [
    {
     "data": {
      "image/png": "[encoded data removed]",
      "text/plain": [
       "<Figure size 432x288 with 1 Axes>"
      ]
     },
     "metadata": {
      "needs_background": "light"
     },
     "output_type": "display_data"
    }
   ],
   "source": [
    "plt.scatter(copd_reduced_tsne[:,0], copd_reduced_tsne[:,1], c=clusters, alpha=0.6)\n",
    "plt.title('Discovered clusters using K-Prototype')\n",
    "plt.xlabel('tSNE_1')\n",
    "plt.ylabel('tSNE_2')\n",
    "plt.show()"
   ]
  },
  {
   "cell_type": "markdown",
   "metadata": {},
   "source": [
    "### Gower Similarity metric\n",
    "\n",
    "Gower’s distance is a non-Euclidian metric used to measure the similarity between two data points that contain both numeric and categorical variables and is therefore well suited for mixed datasets. It works by applying different measures of similarity for the each data type, i.e. the Manhattan distance for numerical variables and the Jaccard distance for discrete variables.\n",
    "\n",
    "Once the Gower matrix is calculated for each pair of data points, it can be used as a distance metric for different clustering algorithms such as hierarchical agglomerative clustering or K-Means. Note that the gower package uses Gower Dissimilarity (i.e. 1 - GS).\n",
    "\n",
    "When we fit the K-Means algorithm, instead of introducing the dataset with our data, we will introduce the matrix of distances that we have calculated."
   ]
  },
  {
   "cell_type": "code",
   "execution_count": 20,
   "metadata": {
    "scrolled": true
   },
   "outputs": [
    {
     "data": {
      "image/png": "[encoded data removed]",
      "text/plain": [
       "<Figure size 432x288 with 1 Axes>"
      ]
     },
     "metadata": {
      "needs_background": "light"
     },
     "output_type": "display_data"
    }
   ],
   "source": [
    "distance_matrix = gower.gower_matrix(df_copd_w_severity)\n",
    "\n",
    "labels = KMeans(n_clusters=3, random_state=0).fit_predict(distance_matrix)\n",
    "\n",
    "plt.scatter(copd_reduced_tsne[:,0], copd_reduced_tsne[:,1], c=labels, alpha=0.6)\n",
    "plt.title('Discovered clusters using K-Means')\n",
    "plt.xlabel('tSNE_1')\n",
    "plt.ylabel('tSNE_2')\n",
    "plt.show()"
   ]
  },
  {
   "cell_type": "markdown",
   "metadata": {},
   "source": [
    "Although not ideal, it does separate different cluster regions quite appropriately."
   ]
  },
  {
   "cell_type": "code",
   "execution_count": 21,
   "metadata": {},
   "outputs": [
    {
     "data": {
      "text/html": [
       "<div>\n",
       "<style scoped>\n",
       "    .dataframe tbody tr th:only-of-type {\n",
       "        vertical-align: middle;\n",
       "    }\n",
       "\n",
       "    .dataframe tbody tr th {\n",
       "        vertical-align: top;\n",
       "    }\n",
       "\n",
       "    .dataframe thead th {\n",
       "        text-align: right;\n",
       "    }\n",
       "</style>\n",
       "<table border=\"1\" class=\"dataframe\">\n",
       "  <thead>\n",
       "    <tr style=\"text-align: right;\">\n",
       "      <th></th>\n",
       "      <th>AGE</th>\n",
       "      <th>PackHistory</th>\n",
       "      <th>COPDSEVERITY</th>\n",
       "      <th>MWT1</th>\n",
       "      <th>MWT2</th>\n",
       "      <th>MWT1Best</th>\n",
       "      <th>FEV1</th>\n",
       "      <th>FEV1PRED</th>\n",
       "      <th>FVC</th>\n",
       "      <th>FVCPRED</th>\n",
       "      <th>...</th>\n",
       "      <th>AGEquartiles</th>\n",
       "      <th>copd</th>\n",
       "      <th>gender</th>\n",
       "      <th>smoking</th>\n",
       "      <th>Diabetes</th>\n",
       "      <th>muscular</th>\n",
       "      <th>hypertension</th>\n",
       "      <th>AtrialFib</th>\n",
       "      <th>IHD</th>\n",
       "      <th>cluster</th>\n",
       "    </tr>\n",
       "  </thead>\n",
       "  <tbody>\n",
       "    <tr>\n",
       "      <th>1</th>\n",
       "      <td>77</td>\n",
       "      <td>60.0</td>\n",
       "      <td>SEVERE</td>\n",
       "      <td>120.0</td>\n",
       "      <td>120.0</td>\n",
       "      <td>120.0</td>\n",
       "      <td>1.21</td>\n",
       "      <td>36.0</td>\n",
       "      <td>2.40</td>\n",
       "      <td>98</td>\n",
       "      <td>...</td>\n",
       "      <td>4</td>\n",
       "      <td>3</td>\n",
       "      <td>1</td>\n",
       "      <td>2</td>\n",
       "      <td>1</td>\n",
       "      <td>0</td>\n",
       "      <td>0</td>\n",
       "      <td>1</td>\n",
       "      <td>0</td>\n",
       "      <td>1</td>\n",
       "    </tr>\n",
       "    <tr>\n",
       "      <th>2</th>\n",
       "      <td>79</td>\n",
       "      <td>50.0</td>\n",
       "      <td>MODERATE</td>\n",
       "      <td>165.0</td>\n",
       "      <td>176.0</td>\n",
       "      <td>176.0</td>\n",
       "      <td>1.09</td>\n",
       "      <td>56.0</td>\n",
       "      <td>1.64</td>\n",
       "      <td>65</td>\n",
       "      <td>...</td>\n",
       "      <td>4</td>\n",
       "      <td>2</td>\n",
       "      <td>0</td>\n",
       "      <td>2</td>\n",
       "      <td>1</td>\n",
       "      <td>0</td>\n",
       "      <td>0</td>\n",
       "      <td>1</td>\n",
       "      <td>1</td>\n",
       "      <td>1</td>\n",
       "    </tr>\n",
       "    <tr>\n",
       "      <th>3</th>\n",
       "      <td>80</td>\n",
       "      <td>11.0</td>\n",
       "      <td>MODERATE</td>\n",
       "      <td>201.0</td>\n",
       "      <td>180.0</td>\n",
       "      <td>201.0</td>\n",
       "      <td>1.52</td>\n",
       "      <td>68.0</td>\n",
       "      <td>2.30</td>\n",
       "      <td>86</td>\n",
       "      <td>...</td>\n",
       "      <td>4</td>\n",
       "      <td>2</td>\n",
       "      <td>0</td>\n",
       "      <td>2</td>\n",
       "      <td>1</td>\n",
       "      <td>0</td>\n",
       "      <td>0</td>\n",
       "      <td>1</td>\n",
       "      <td>0</td>\n",
       "      <td>1</td>\n",
       "    </tr>\n",
       "    <tr>\n",
       "      <th>4</th>\n",
       "      <td>56</td>\n",
       "      <td>60.0</td>\n",
       "      <td>VERY SEVERE</td>\n",
       "      <td>210.0</td>\n",
       "      <td>210.0</td>\n",
       "      <td>210.0</td>\n",
       "      <td>0.47</td>\n",
       "      <td>14.0</td>\n",
       "      <td>1.14</td>\n",
       "      <td>27</td>\n",
       "      <td>...</td>\n",
       "      <td>1</td>\n",
       "      <td>4</td>\n",
       "      <td>1</td>\n",
       "      <td>2</td>\n",
       "      <td>0</td>\n",
       "      <td>0</td>\n",
       "      <td>1</td>\n",
       "      <td>1</td>\n",
       "      <td>0</td>\n",
       "      <td>1</td>\n",
       "    </tr>\n",
       "    <tr>\n",
       "      <th>5</th>\n",
       "      <td>65</td>\n",
       "      <td>68.0</td>\n",
       "      <td>SEVERE</td>\n",
       "      <td>204.0</td>\n",
       "      <td>210.0</td>\n",
       "      <td>210.0</td>\n",
       "      <td>1.07</td>\n",
       "      <td>42.0</td>\n",
       "      <td>2.91</td>\n",
       "      <td>98</td>\n",
       "      <td>...</td>\n",
       "      <td>1</td>\n",
       "      <td>3</td>\n",
       "      <td>1</td>\n",
       "      <td>2</td>\n",
       "      <td>0</td>\n",
       "      <td>1</td>\n",
       "      <td>1</td>\n",
       "      <td>0</td>\n",
       "      <td>0</td>\n",
       "      <td>1</td>\n",
       "    </tr>\n",
       "  </tbody>\n",
       "</table>\n",
       "<p>5 rows × 23 columns</p>\n",
       "</div>"
      ],
      "text/plain": [
       "   AGE  PackHistory COPDSEVERITY   MWT1   MWT2  MWT1Best  FEV1  FEV1PRED  \\\n",
       "1   77         60.0       SEVERE  120.0  120.0     120.0  1.21      36.0   \n",
       "2   79         50.0     MODERATE  165.0  176.0     176.0  1.09      56.0   \n",
       "3   80         11.0     MODERATE  201.0  180.0     201.0  1.52      68.0   \n",
       "4   56         60.0  VERY SEVERE  210.0  210.0     210.0  0.47      14.0   \n",
       "5   65         68.0       SEVERE  204.0  210.0     210.0  1.07      42.0   \n",
       "\n",
       "    FVC  FVCPRED  ...  AGEquartiles  copd  gender  smoking  Diabetes  \\\n",
       "1  2.40       98  ...             4     3       1        2         1   \n",
       "2  1.64       65  ...             4     2       0        2         1   \n",
       "3  2.30       86  ...             4     2       0        2         1   \n",
       "4  1.14       27  ...             1     4       1        2         0   \n",
       "5  2.91       98  ...             1     3       1        2         0   \n",
       "\n",
       "   muscular  hypertension  AtrialFib  IHD  cluster  \n",
       "1         0             0          1    0        1  \n",
       "2         0             0          1    1        1  \n",
       "3         0             0          1    0        1  \n",
       "4         0             1          1    0        1  \n",
       "5         1             1          0    0        1  \n",
       "\n",
       "[5 rows x 23 columns]"
      ]
     },
     "execution_count": 21,
     "metadata": {},
     "output_type": "execute_result"
    }
   ],
   "source": [
    "df_copd_w_clusters = df_copd_w_severity.copy()\n",
    "\n",
    "df_copd_w_clusters['cluster'] = labels\n",
    "df_copd_w_clusters.head()"
   ]
  },
  {
   "cell_type": "markdown",
   "metadata": {},
   "source": [
    "It is very interesting to add the results of the cluster (i.e. labels) to the original dataframe to be able to interpret the results. This gives us interesting insights as to the clustering metric and the important of some features over others.\n",
    "\n",
    "These results would allow us to know the different groups into which our customers are divided. Thus, we could carry out specific actions on them, such as specific medical prognosis, etc.."
   ]
  },
  {
   "cell_type": "markdown",
   "metadata": {},
   "source": [
    "### Factor Analysis of Mixed Data"
   ]
  },
  {
   "cell_type": "markdown",
   "metadata": {},
   "source": [
    "The FAMD algorithm can be seen as a combination of PCA and MCA (multiple correspondence analysis) techniques and it popular for datasets containing both categorical and numerical values (PCA for numerical, MCA for categorical).\n",
    "\n",
    "A factor map is created with similar profiles lying close to each other. For creating labels/coloring, it is possible to color the individual data points using any of the qualitative variables in the initial dataframe (here we chose COPD Severity, but this can be changed easily)."
   ]
  },
  {
   "cell_type": "code",
   "execution_count": 22,
   "metadata": {},
   "outputs": [
    {
     "data": {
      "image/png": "[encoded data removed]",
      "text/plain": [
       "<Figure size 720x504 with 1 Axes>"
      ]
     },
     "metadata": {
      "needs_background": "light"
     },
     "output_type": "display_data"
    }
   ],
   "source": [
    "famd = FAMD(n_components =2, n_iter = 3, random_state = 101)\n",
    "\n",
    "scaled_features_famd = df_copd_w_severity.copy()\n",
    "famd.fit(scaled_features_famd)\n",
    "famd.transform(scaled_features_famd)\n",
    "famd.plot_row_coordinates(scaled_features_famd, figsize=(10, 7),\\\n",
    "                          color_labels=['COPD Severity: {}'.format(t) for t in scaled_features_famd['copd']])\n",
    "plt.show()"
   ]
  },
  {
   "cell_type": "markdown",
   "metadata": {},
   "source": [
    "This method seems to work quite well and there are clearly distinct clusters with few outliers, with 27% of variability explained by component 0 and over 18% by component 1. Although perhaps this is mostly due to the COPDSEVERITY variable being treated as the only \"categorical\" feature and therefore skewing the results in that way."
   ]
  },
  {
   "cell_type": "markdown",
   "metadata": {},
   "source": [
    "## Conclusion"
   ]
  },
  {
   "cell_type": "markdown",
   "metadata": {},
   "source": [
    "In this small analysis, we used several unsupervised learning algorithms utilizing various distance metrics (Euclidian and non-Euclidian) to cluster patients with chronic obstructive pulmonary disease (COPD) that includes 22 features with both categorical and numerical features, including K-Means, K-Prototype and Factor Analysis of Mixed Data.\n",
    "\n",
    "While most of the analysis can be seen throughout the notebook, most of the clustering efforts did not yield very promising results as we are sometimes used to seeing (except for FAMD which is biased due to the single categorical feature). These techniques are also very sensitive to initialization and require clusters to have convex shapes. Our low-dimensional embedding is also not creating any \"nice\" visual separations of our data into distinct clusters. However, most of the labels/clusters were well colored, i.e. with no overlap and clear region delineations, proving that some successful clustering of patients was achieved.\n",
    "\n",
    "Of course, there is still a lot of analysis to be done on this dataset including data preprocessing/cleaning, as well as deeply analyzing the quality of the clustering (cardinality, magnitude), looking into more similiarity metrics and further optimizing the number of clusters. Indeed, instead of using a fixed number of predetermined clusters, we can also use hierarchical clustering methods using the Gower similarity metric, for instance."
   ]
  },
  {
   "cell_type": "markdown",
   "metadata": {},
   "source": [
    "## Going further"
   ]
  },
  {
   "cell_type": "markdown",
   "metadata": {},
   "source": [
    "Another interesting task for further analysis could be to predict one variable, such as COPD severity (intuitively could be seen as the outcome variable), using a classification model such as multinomial logistic regression or a random forest classifier. If one would have access to a larger amount of data, one could also train a simple neural network (so as not to overfit) for this task which would create more powerful feature representations of the data.\n",
    "\n",
    "Furthermore, one should be careful when implementing clustering algorithms with very large datsets, as algorithms such as hierarchical clustering has a complexity of O(N^3)."
   ]
  }
 ],
 "metadata": {
  "kernelspec": {
   "display_name": "Python 3",
   "language": "python",
   "name": "python3"
  },
  "language_info": {
   "codemirror_mode": {
    "name": "ipython",
    "version": 3
   },
   "file_extension": ".py",
   "mimetype": "text/x-python",
   "name": "python",
   "nbconvert_exporter": "python",
   "pygments_lexer": "ipython3",
   "version": "3.8.5"
  }
 },
 "nbformat": 4,
 "nbformat_minor": 4
}
